{
 "cells": [
  {
   "cell_type": "code",
   "execution_count": 73,
   "metadata": {},
   "outputs": [],
   "source": [
    "import pandas as pd\n",
    "import talib\n",
    "import numpy as np\n",
    "import datetime\n",
    "import time"
   ]
  },
  {
   "cell_type": "code",
   "execution_count": 74,
   "metadata": {},
   "outputs": [],
   "source": [
    "#JPY data\n",
    "JPY = pd.read_csv(\"JPY1.csv\")\n",
    "JPY.index = JPY.Date\n",
    "JPY = JPY[['Date', 'Open', 'High', 'Low', 'Close', 'SMA', 'WMA', 'MOMENTUM', \"K\", 'D', \"RSI\", \"MACD\", \"R\", 'ADX', \"CCI\"]]"
   ]
  },
  {
   "cell_type": "code",
   "execution_count": 76,
   "metadata": {},
   "outputs": [],
   "source": [
    "for data in [JPY]:\n",
    "    data['SMA'] = talib.MA(np.array(data.Close), 10, matype=0)\n",
    "    data['WMA'] = talib.MA(np.array(data.Close),10,matype=2)\n",
    "    data['MOMENTUM'] = talib.MOM(np.array(data.Close), timeperiod=10)\n",
    "    data['K'],data['D']= talib.STOCH(high = np.array(data.High), low = np.array(data.Low), close = np.array(data.Close),\n",
    "                    fastk_period=9,slowk_period=3,slowk_matype=0,slowd_period=3,slowd_matype=0)\n",
    "    data['RSI'] = talib.RSI(np.array(data.Close), timeperiod = 10)\n",
    "    data['MACD'],data['MACDsignal'],data['MACDhist'] = talib.MACD(np.array(data.Close),fastperiod=6, slowperiod=12, signalperiod=10)\n",
    "    data['R'] = talib.WILLR(np.array(data.High), np.array(data.Low), np.array(data.Close), timeperiod=10)\n",
    "    data['ADX'] = talib.ADX(np.array(data.High), np.array(data.Low), np.array(data.Close), timeperiod=10)\n",
    "    data['CCI'] = talib.CCI(np.array(data.High), np.array(data.Low), np.array(data.Close), timeperiod=10)"
   ]
  },
  {
   "cell_type": "code",
   "execution_count": 78,
   "metadata": {},
   "outputs": [],
   "source": [
    "JPY.to_csv('JPY1.csv')"
   ]
  },
  {
   "cell_type": "code",
   "execution_count": null,
   "metadata": {},
   "outputs": [],
   "source": []
  }
 ],
 "metadata": {
  "kernelspec": {
   "display_name": "Python 3",
   "language": "python",
   "name": "python3"
  },
  "language_info": {
   "codemirror_mode": {
    "name": "ipython",
    "version": 3
   },
   "file_extension": ".py",
   "mimetype": "text/x-python",
   "name": "python",
   "nbconvert_exporter": "python",
   "pygments_lexer": "ipython3",
   "version": "3.6.8"
  }
 },
 "nbformat": 4,
 "nbformat_minor": 2
}
